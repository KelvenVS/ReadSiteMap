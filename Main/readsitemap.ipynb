{
 "cells": [
  {
   "cell_type": "code",
   "execution_count": 19,
   "metadata": {},
   "outputs": [],
   "source": [
    "import requests\n",
    "from xml.etree import ElementTree as ET\n",
    "import kit_function\n",
    "from IPython.display import clear_output\n",
    "import pandas as pd"
   ]
  },
  {
   "cell_type": "code",
   "execution_count": 27,
   "metadata": {},
   "outputs": [],
   "source": [
    "def read_sitemap(url):\n",
    "    \"\"\"\n",
    "    Lê um sitemap XML a partir de uma URL e retorna uma lista de URLs encontradas.\n",
    "\n",
    "    Args:\n",
    "        url (str): A URL do sitemap que será lido.\n",
    "\n",
    "    Returns:\n",
    "        list: Uma lista de strings, cada uma representando uma URL extraída do sitemap. \n",
    "              Se houver algum erro na requisição ou no parsing do XML, retorna uma lista vazia.\n",
    "\n",
    "    Exceções Tratadas:\n",
    "        - requests.exceptions.RequestException: Captura erros de requisição HTTP, como falha de conexão ou URL inválida.\n",
    "        - xml.etree.ElementTree.ParseError: Captura erros de parsing XML, como formato inválido do XML.\n",
    "\n",
    "    Exemplo:\n",
    "        sitemap_url = 'https://www.seusite.com/sitemap.xml'\n",
    "        urls = read_sitemap(sitemap_url)\n",
    "        for url in urls:\n",
    "            print(url)\n",
    "    \"\"\"\n",
    "    try:\n",
    "        # Fazendo uma requisição HTTP para obter o conteúdo do sitemap\n",
    "        response = requests.get(url)\n",
    "        response.raise_for_status()  # Verifica se a requisição foi bem-sucedida\n",
    "\n",
    "        # Parsing do XML\n",
    "        root = ET.fromstring(response.content)\n",
    "\n",
    "        # Extraindo todas as URLs do sitemap\n",
    "        urls = [element.text for element in root.findall(\".//{http://www.sitemaps.org/schemas/sitemap/0.9}loc\")]\n",
    "\n",
    "        return urls\n",
    "    except requests.exceptions.RequestException as e:\n",
    "        print(f\"Erro ao acessar o sitemap: {e}\")\n",
    "        return []\n",
    "    except ET.ParseError as e:\n",
    "        print(f\"Erro ao processar o XML: {e}\")\n",
    "        return []"
   ]
  },
  {
   "cell_type": "code",
   "execution_count": 21,
   "metadata": {},
   "outputs": [],
   "source": [
    "sitemap_xml = ['https://www.tramontina.com.br/sitemap_0-product.xml',\n",
    "         'https://www.tramontina.com.br/sitemap_1-product.xml',\n",
    "         'https://www.tramontina.com.br/sitemap_2-product.xml']\n",
    "\n",
    "links_produto = {'Links' : []}"
   ]
  },
  {
   "cell_type": "code",
   "execution_count": null,
   "metadata": {},
   "outputs": [],
   "source": [
    "for sitemap in sitemap_xml:\n",
    "    arr_links = read_sitemap(sitemap)\n",
    "    links_produto['Links'].extend(arr_links)  # Adiciona todos os links de uma vez\n",
    "links_produto"
   ]
  },
  {
   "cell_type": "code",
   "execution_count": 24,
   "metadata": {},
   "outputs": [],
   "source": [
    "#Cria o DataFrame dos links\n",
    "df = pd.DataFrame(links_produto)\n",
    "xlsx_dir = '../Dados/links_produtos.xlsx'\n",
    "df.to_excel(xlsx_dir, index=False)"
   ]
  }
 ],
 "metadata": {
  "kernelspec": {
   "display_name": "Python 3",
   "language": "python",
   "name": "python3"
  },
  "language_info": {
   "codemirror_mode": {
    "name": "ipython",
    "version": 3
   },
   "file_extension": ".py",
   "mimetype": "text/x-python",
   "name": "python",
   "nbconvert_exporter": "python",
   "pygments_lexer": "ipython3",
   "version": "3.11.9"
  }
 },
 "nbformat": 4,
 "nbformat_minor": 2
}
